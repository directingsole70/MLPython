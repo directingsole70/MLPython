{
 "cells": [
  {
   "cell_type": "code",
   "execution_count": 1,
   "id": "12265b02",
   "metadata": {},
   "outputs": [],
   "source": [
    "import json;\n",
    "import preprocessor as p\n",
    "from textblob import TextBlob\n",
    "import numpy as np\n",
    "import sklearn as sk\n",
    "positive = 0\n",
    "neutral = 0 \n",
    "negative = 0\n",
    "f1 = open('savedtweets_americalatina.json', \"r\")\n",
    "data0 = json.load(f1)\n",
    "for i in range (1, 25):\n",
    "    for tweet in data0:\n",
    "        if ('latitude' not in tweet):\n",
    "            data0.remove(tweet)\n",
    "        text = tweet['text']\n",
    "        text = p.clean(text)\n",
    "        tweet.update({'text': text})\n",
    "  \n",
    "\n",
    "f2 = open('savedtweets_machinelearning.json', \"r\")\n",
    "data1 = json.load(f2);\n",
    "\n",
    "for i in range (1, 10):\n",
    "    for tweet in data1:\n",
    "        if ('latitude' not in tweet):\n",
    "            data1.remove(tweet)\n",
    "        text = tweet['text']\n",
    "        text = p.clean(text)\n",
    "        tweet.update({'text': text})\n",
    "\n",
    "\n",
    "\n",
    "\n",
    "f3 = open('savedtweets_superleague.json', \"r\")\n",
    "data2 = json.load(f3);\n",
    "for i in range (1, 10):\n",
    "    for tweet in data2:\n",
    "        if ('latitude' not in tweet):\n",
    "            data2.remove(tweet)\n",
    "        if('latitude' in tweet):\n",
    "            text = tweet['text']\n",
    "            text = p.clean(text)\n",
    "            tweet.update({'text': text})\n",
    "\n",
    "\n",
    "f4 = open('savedtweets_weibo.json', \"r\");\n",
    "data3 = json.load(f4);\n",
    "for i in range (1, 20):\n",
    "    for tweet in data3:\n",
    "        if ('latitude' not in tweet):\n",
    "            data3.remove(tweet)\n",
    "        text = tweet['text']\n",
    "        text = p.clean(text)\n",
    "        tweet.update({'text': text})  \n",
    "\n",
    "with open(\"prep_tweets_class0.json\", \"w\") as final:\n",
    "    json.dump(data0, final, indent=2)\n",
    "with open(\"prep_tweets_class1.json\", \"w\") as final:\n",
    "    json.dump(data1, final, indent=2)\n",
    "with open(\"prep_tweets_class2.json\", \"w\") as final:\n",
    "    json.dump(data2, final, indent=2)\n",
    "with open(\"prep_tweets_class3.json\", \"w\") as final:\n",
    "    json.dump(data3, final, indent=2)\n",
    "    \n",
    "f1.close;\n",
    "f2.close;\n",
    "f3.close;\n",
    "f4.close;\n"
   ]
  },
  {
   "cell_type": "code",
   "execution_count": 2,
   "id": "808324bc",
   "metadata": {},
   "outputs": [
    {
     "name": "stdout",
     "output_type": "stream",
     "text": [
      "Positive:  2 Neutral:  42 Negative:  0\n",
      "Positive:  35 Neutral:  32 Negative:  9\n",
      "Positive:  39 Neutral:  3 Negative:  9\n",
      "Positive:  5 Neutral:  13 Negative:  7\n"
     ]
    }
   ],
   "source": [
    "from textblob import TextBlob\n",
    "\n",
    "f0 = open('prep_tweets_class0.json', \"r\")\n",
    "f1 = open('prep_tweets_class1.json', \"r\")\n",
    "f2 = open('prep_tweets_class2.json', \"r\")\n",
    "f3 = open('prep_tweets_class3.json', \"r\")\n",
    "\n",
    "moddata0 = json.load(f0)\n",
    "moddata1 = json.load(f1)\n",
    "moddata2 = json.load(f2)\n",
    "moddata3 = json.load(f3)\n",
    "\n",
    "for tweet in moddata0:\n",
    "    text = TextBlob(tweet['text'])\n",
    "    sent = text.sentiment\n",
    "    if sent[0] == 0:\n",
    "        neutral = neutral + 1\n",
    "    if 0 < sent[0]:\n",
    "        positive = positive + 1\n",
    "    if sent[0] < 0:\n",
    "        negative = negative + 1\n",
    "        \n",
    "print(\"Positive: \", positive,\"Neutral: \", neutral,\"Negative: \", negative)\n",
    "positive = 0\n",
    "neutral = 0\n",
    "negative = 0\n",
    "\n",
    "for tweet in moddata1:\n",
    "    text = TextBlob(tweet['text'])\n",
    "    sent = text.sentiment\n",
    "    if sent[0] == 0:\n",
    "        neutral = neutral + 1\n",
    "    if 0 < sent[0]:\n",
    "        positive = positive + 1\n",
    "    if sent[0] < 0:\n",
    "        negative = negative + 1\n",
    "        \n",
    "print(\"Positive: \", positive,\"Neutral: \", neutral,\"Negative: \", negative)\n",
    "positive = 0\n",
    "neutral = 0\n",
    "negative = 0\n",
    "\n",
    "for tweet in moddata2:\n",
    "    text = TextBlob(tweet['text'])\n",
    "    sent = text.sentiment\n",
    "    if sent[0] == 0:\n",
    "        neutral = neutral + 1\n",
    "    if 0 < sent[0]:\n",
    "        positive = positive + 1\n",
    "    if sent[0] < 0:\n",
    "        negative = negative + 1\n",
    "        \n",
    "print(\"Positive: \", positive,\"Neutral: \", neutral,\"Negative: \", negative)\n",
    "positive = 0\n",
    "neutral = 0\n",
    "negative = 0\n",
    "\n",
    "for tweet in moddata3:\n",
    "    text = TextBlob(tweet['text'])\n",
    "    sent = text.sentiment\n",
    "    if sent[0] == 0:\n",
    "        neutral = neutral + 1\n",
    "    if 0 < sent[0]:\n",
    "        positive = positive + 1\n",
    "    if sent[0] < 0:\n",
    "        negative = negative + 1\n",
    "        \n",
    "print(\"Positive: \", positive,\"Neutral: \", neutral,\"Negative: \", negative)\n",
    "positive = 0\n",
    "neutral = 0\n",
    "negative = 0"
   ]
  },
  {
   "cell_type": "code",
   "execution_count": 3,
   "id": "2b55ffd2",
   "metadata": {},
   "outputs": [
    {
     "name": "stdout",
     "output_type": "stream",
     "text": [
      "196\n",
      "196\n"
     ]
    }
   ],
   "source": [
    "combList = []\n",
    "\n",
    "for tweet in moddata0:\n",
    "    combList.append(tweet)\n",
    "for tweet in moddata1:\n",
    "    combList.append(tweet)\n",
    "for tweet in moddata2:\n",
    "    combList.append(tweet)\n",
    "for tweet in moddata3:\n",
    "    combList.append(tweet)\n",
    "print(len(combList))\n",
    "secList = [moddata0, moddata1, moddata2, moddata3]\n",
    "print(len(secList[0]) + len(secList[1]) + len(secList[2]) + len(secList[3]))"
   ]
  },
  {
   "cell_type": "code",
   "execution_count": 4,
   "id": "3f096a80",
   "metadata": {},
   "outputs": [],
   "source": [
    "for tweet in combList:\n",
    "    lang = tweet['lang']\n",
    "    text = tweet['text']\n",
    "    tweet.update({'text': len(text)})\n",
    "    if lang == 'en':\n",
    "        tweet.update({'lang': 0})\n",
    "    if lang != 'en':\n",
    "        tweet.update({'lang': 100})\n",
    "    tweet.pop('screen_name', None)\n",
    "    tweet.pop('location', None)\n"
   ]
  },
  {
   "cell_type": "code",
   "execution_count": 5,
   "id": "a284f647",
   "metadata": {},
   "outputs": [],
   "source": [
    "extList = []\n",
    "\n",
    "for tweet in combList:\n",
    "    intList = []\n",
    "    for feature in tweet:\n",
    "        intList.append(tweet[feature])\n",
    "    extList.append(intList)\n",
    "trainarray = np.array(extList)"
   ]
  },
  {
   "cell_type": "code",
   "execution_count": 24,
   "id": "e4786526",
   "metadata": {},
   "outputs": [],
   "source": [
    "extList2 = []\n",
    "for file in secList:\n",
    "    intList2 = []\n",
    "    for tweet in file:\n",
    "        intList = []\n",
    "        for feature in tweet:\n",
    "            intList.append(tweet[feature])\n",
    "        intList2.append(intList)\n",
    "    extList2.append(intList2)\n",
    "testarray0= np.array(extList2[0])\n",
    "testarray1= np.array(extList2[1])\n",
    "testarray2= np.array(extList2[2])\n",
    "testarray3= np.array(extList2[3])\n"
   ]
  },
  {
   "cell_type": "code",
   "execution_count": 25,
   "id": "ba974de5",
   "metadata": {},
   "outputs": [
    {
     "ename": "ValueError",
     "evalue": "Found input variables with inconsistent numbers of samples: [196, 44]",
     "output_type": "error",
     "traceback": [
      "\u001b[1;31m---------------------------------------------------------------------------\u001b[0m",
      "\u001b[1;31mValueError\u001b[0m                                Traceback (most recent call last)",
      "\u001b[1;32m~\\AppData\\Local\\Temp/ipykernel_18532/2058752520.py\u001b[0m in \u001b[0;36m<module>\u001b[1;34m\u001b[0m\n\u001b[0;32m      1\u001b[0m \u001b[1;32mfrom\u001b[0m \u001b[0msklearn\u001b[0m\u001b[1;33m.\u001b[0m\u001b[0mmodel_selection\u001b[0m \u001b[1;32mimport\u001b[0m \u001b[0mtrain_test_split\u001b[0m\u001b[1;33m\u001b[0m\u001b[1;33m\u001b[0m\u001b[0m\n\u001b[1;32m----> 2\u001b[1;33m X_train, X_test, y_train, y_test = train_test_split(\n\u001b[0m\u001b[0;32m      3\u001b[0m     trainarray, testarray0, random_state = 11)\n",
      "\u001b[1;32m~\\anaconda3\\envs\\CSE\\lib\\site-packages\\sklearn\\model_selection\\_split.py\u001b[0m in \u001b[0;36mtrain_test_split\u001b[1;34m(test_size, train_size, random_state, shuffle, stratify, *arrays)\u001b[0m\n\u001b[0;32m   2415\u001b[0m         \u001b[1;32mraise\u001b[0m \u001b[0mValueError\u001b[0m\u001b[1;33m(\u001b[0m\u001b[1;34m\"At least one array required as input\"\u001b[0m\u001b[1;33m)\u001b[0m\u001b[1;33m\u001b[0m\u001b[1;33m\u001b[0m\u001b[0m\n\u001b[0;32m   2416\u001b[0m \u001b[1;33m\u001b[0m\u001b[0m\n\u001b[1;32m-> 2417\u001b[1;33m     \u001b[0marrays\u001b[0m \u001b[1;33m=\u001b[0m \u001b[0mindexable\u001b[0m\u001b[1;33m(\u001b[0m\u001b[1;33m*\u001b[0m\u001b[0marrays\u001b[0m\u001b[1;33m)\u001b[0m\u001b[1;33m\u001b[0m\u001b[1;33m\u001b[0m\u001b[0m\n\u001b[0m\u001b[0;32m   2418\u001b[0m \u001b[1;33m\u001b[0m\u001b[0m\n\u001b[0;32m   2419\u001b[0m     \u001b[0mn_samples\u001b[0m \u001b[1;33m=\u001b[0m \u001b[0m_num_samples\u001b[0m\u001b[1;33m(\u001b[0m\u001b[0marrays\u001b[0m\u001b[1;33m[\u001b[0m\u001b[1;36m0\u001b[0m\u001b[1;33m]\u001b[0m\u001b[1;33m)\u001b[0m\u001b[1;33m\u001b[0m\u001b[1;33m\u001b[0m\u001b[0m\n",
      "\u001b[1;32m~\\anaconda3\\envs\\CSE\\lib\\site-packages\\sklearn\\utils\\validation.py\u001b[0m in \u001b[0;36mindexable\u001b[1;34m(*iterables)\u001b[0m\n\u001b[0;32m    376\u001b[0m \u001b[1;33m\u001b[0m\u001b[0m\n\u001b[0;32m    377\u001b[0m     \u001b[0mresult\u001b[0m \u001b[1;33m=\u001b[0m \u001b[1;33m[\u001b[0m\u001b[0m_make_indexable\u001b[0m\u001b[1;33m(\u001b[0m\u001b[0mX\u001b[0m\u001b[1;33m)\u001b[0m \u001b[1;32mfor\u001b[0m \u001b[0mX\u001b[0m \u001b[1;32min\u001b[0m \u001b[0miterables\u001b[0m\u001b[1;33m]\u001b[0m\u001b[1;33m\u001b[0m\u001b[1;33m\u001b[0m\u001b[0m\n\u001b[1;32m--> 378\u001b[1;33m     \u001b[0mcheck_consistent_length\u001b[0m\u001b[1;33m(\u001b[0m\u001b[1;33m*\u001b[0m\u001b[0mresult\u001b[0m\u001b[1;33m)\u001b[0m\u001b[1;33m\u001b[0m\u001b[1;33m\u001b[0m\u001b[0m\n\u001b[0m\u001b[0;32m    379\u001b[0m     \u001b[1;32mreturn\u001b[0m \u001b[0mresult\u001b[0m\u001b[1;33m\u001b[0m\u001b[1;33m\u001b[0m\u001b[0m\n\u001b[0;32m    380\u001b[0m \u001b[1;33m\u001b[0m\u001b[0m\n",
      "\u001b[1;32m~\\anaconda3\\envs\\CSE\\lib\\site-packages\\sklearn\\utils\\validation.py\u001b[0m in \u001b[0;36mcheck_consistent_length\u001b[1;34m(*arrays)\u001b[0m\n\u001b[0;32m    330\u001b[0m     \u001b[0muniques\u001b[0m \u001b[1;33m=\u001b[0m \u001b[0mnp\u001b[0m\u001b[1;33m.\u001b[0m\u001b[0munique\u001b[0m\u001b[1;33m(\u001b[0m\u001b[0mlengths\u001b[0m\u001b[1;33m)\u001b[0m\u001b[1;33m\u001b[0m\u001b[1;33m\u001b[0m\u001b[0m\n\u001b[0;32m    331\u001b[0m     \u001b[1;32mif\u001b[0m \u001b[0mlen\u001b[0m\u001b[1;33m(\u001b[0m\u001b[0muniques\u001b[0m\u001b[1;33m)\u001b[0m \u001b[1;33m>\u001b[0m \u001b[1;36m1\u001b[0m\u001b[1;33m:\u001b[0m\u001b[1;33m\u001b[0m\u001b[1;33m\u001b[0m\u001b[0m\n\u001b[1;32m--> 332\u001b[1;33m         raise ValueError(\n\u001b[0m\u001b[0;32m    333\u001b[0m             \u001b[1;34m\"Found input variables with inconsistent numbers of samples: %r\"\u001b[0m\u001b[1;33m\u001b[0m\u001b[1;33m\u001b[0m\u001b[0m\n\u001b[0;32m    334\u001b[0m             \u001b[1;33m%\u001b[0m \u001b[1;33m[\u001b[0m\u001b[0mint\u001b[0m\u001b[1;33m(\u001b[0m\u001b[0ml\u001b[0m\u001b[1;33m)\u001b[0m \u001b[1;32mfor\u001b[0m \u001b[0ml\u001b[0m \u001b[1;32min\u001b[0m \u001b[0mlengths\u001b[0m\u001b[1;33m]\u001b[0m\u001b[1;33m\u001b[0m\u001b[1;33m\u001b[0m\u001b[0m\n",
      "\u001b[1;31mValueError\u001b[0m: Found input variables with inconsistent numbers of samples: [196, 44]"
     ]
    }
   ],
   "source": [
    "from sklearn.model_selection import train_test_split\n",
    "X_train, X_test, y_train, y_test = train_test_split(\n",
    "    trainarray, testarray0, random_state = 11)\n"
   ]
  },
  {
   "cell_type": "code",
   "execution_count": 11,
   "id": "e1c810f6",
   "metadata": {},
   "outputs": [
    {
     "ename": "ValueError",
     "evalue": "y should be a 1d array, got an array of shape (147, 5) instead.",
     "output_type": "error",
     "traceback": [
      "\u001b[1;31m---------------------------------------------------------------------------\u001b[0m",
      "\u001b[1;31mValueError\u001b[0m                                Traceback (most recent call last)",
      "\u001b[1;32m~\\AppData\\Local\\Temp/ipykernel_18532/2205746654.py\u001b[0m in \u001b[0;36m<module>\u001b[1;34m\u001b[0m\n\u001b[0;32m      4\u001b[0m \u001b[1;32mfrom\u001b[0m \u001b[0msklearn\u001b[0m \u001b[1;32mimport\u001b[0m \u001b[0msvm\u001b[0m\u001b[1;33m\u001b[0m\u001b[1;33m\u001b[0m\u001b[0m\n\u001b[0;32m      5\u001b[0m \u001b[0mregr\u001b[0m \u001b[1;33m=\u001b[0m \u001b[0msvm\u001b[0m\u001b[1;33m.\u001b[0m\u001b[0mSVR\u001b[0m\u001b[1;33m(\u001b[0m\u001b[1;33m)\u001b[0m\u001b[1;33m\u001b[0m\u001b[1;33m\u001b[0m\u001b[0m\n\u001b[1;32m----> 6\u001b[1;33m \u001b[0mregr\u001b[0m\u001b[1;33m.\u001b[0m\u001b[0mfit\u001b[0m\u001b[1;33m(\u001b[0m\u001b[0mX\u001b[0m\u001b[1;33m=\u001b[0m\u001b[0mX_train\u001b[0m\u001b[1;33m,\u001b[0m \u001b[0my\u001b[0m\u001b[1;33m=\u001b[0m\u001b[0my_train\u001b[0m\u001b[1;33m)\u001b[0m\u001b[1;33m\u001b[0m\u001b[1;33m\u001b[0m\u001b[0m\n\u001b[0m",
      "\u001b[1;32m~\\anaconda3\\envs\\CSE\\lib\\site-packages\\sklearn\\svm\\_base.py\u001b[0m in \u001b[0;36mfit\u001b[1;34m(self, X, y, sample_weight)\u001b[0m\n\u001b[0;32m    188\u001b[0m             \u001b[0mcheck_consistent_length\u001b[0m\u001b[1;33m(\u001b[0m\u001b[0mX\u001b[0m\u001b[1;33m,\u001b[0m \u001b[0my\u001b[0m\u001b[1;33m)\u001b[0m\u001b[1;33m\u001b[0m\u001b[1;33m\u001b[0m\u001b[0m\n\u001b[0;32m    189\u001b[0m         \u001b[1;32melse\u001b[0m\u001b[1;33m:\u001b[0m\u001b[1;33m\u001b[0m\u001b[1;33m\u001b[0m\u001b[0m\n\u001b[1;32m--> 190\u001b[1;33m             X, y = self._validate_data(\n\u001b[0m\u001b[0;32m    191\u001b[0m                 \u001b[0mX\u001b[0m\u001b[1;33m,\u001b[0m\u001b[1;33m\u001b[0m\u001b[1;33m\u001b[0m\u001b[0m\n\u001b[0;32m    192\u001b[0m                 \u001b[0my\u001b[0m\u001b[1;33m,\u001b[0m\u001b[1;33m\u001b[0m\u001b[1;33m\u001b[0m\u001b[0m\n",
      "\u001b[1;32m~\\anaconda3\\envs\\CSE\\lib\\site-packages\\sklearn\\base.py\u001b[0m in \u001b[0;36m_validate_data\u001b[1;34m(self, X, y, reset, validate_separately, **check_params)\u001b[0m\n\u001b[0;32m    579\u001b[0m                 \u001b[0my\u001b[0m \u001b[1;33m=\u001b[0m \u001b[0mcheck_array\u001b[0m\u001b[1;33m(\u001b[0m\u001b[0my\u001b[0m\u001b[1;33m,\u001b[0m \u001b[1;33m**\u001b[0m\u001b[0mcheck_y_params\u001b[0m\u001b[1;33m)\u001b[0m\u001b[1;33m\u001b[0m\u001b[1;33m\u001b[0m\u001b[0m\n\u001b[0;32m    580\u001b[0m             \u001b[1;32melse\u001b[0m\u001b[1;33m:\u001b[0m\u001b[1;33m\u001b[0m\u001b[1;33m\u001b[0m\u001b[0m\n\u001b[1;32m--> 581\u001b[1;33m                 \u001b[0mX\u001b[0m\u001b[1;33m,\u001b[0m \u001b[0my\u001b[0m \u001b[1;33m=\u001b[0m \u001b[0mcheck_X_y\u001b[0m\u001b[1;33m(\u001b[0m\u001b[0mX\u001b[0m\u001b[1;33m,\u001b[0m \u001b[0my\u001b[0m\u001b[1;33m,\u001b[0m \u001b[1;33m**\u001b[0m\u001b[0mcheck_params\u001b[0m\u001b[1;33m)\u001b[0m\u001b[1;33m\u001b[0m\u001b[1;33m\u001b[0m\u001b[0m\n\u001b[0m\u001b[0;32m    582\u001b[0m             \u001b[0mout\u001b[0m \u001b[1;33m=\u001b[0m \u001b[0mX\u001b[0m\u001b[1;33m,\u001b[0m \u001b[0my\u001b[0m\u001b[1;33m\u001b[0m\u001b[1;33m\u001b[0m\u001b[0m\n\u001b[0;32m    583\u001b[0m \u001b[1;33m\u001b[0m\u001b[0m\n",
      "\u001b[1;32m~\\anaconda3\\envs\\CSE\\lib\\site-packages\\sklearn\\utils\\validation.py\u001b[0m in \u001b[0;36mcheck_X_y\u001b[1;34m(X, y, accept_sparse, accept_large_sparse, dtype, order, copy, force_all_finite, ensure_2d, allow_nd, multi_output, ensure_min_samples, ensure_min_features, y_numeric, estimator)\u001b[0m\n\u001b[0;32m    977\u001b[0m     )\n\u001b[0;32m    978\u001b[0m \u001b[1;33m\u001b[0m\u001b[0m\n\u001b[1;32m--> 979\u001b[1;33m     \u001b[0my\u001b[0m \u001b[1;33m=\u001b[0m \u001b[0m_check_y\u001b[0m\u001b[1;33m(\u001b[0m\u001b[0my\u001b[0m\u001b[1;33m,\u001b[0m \u001b[0mmulti_output\u001b[0m\u001b[1;33m=\u001b[0m\u001b[0mmulti_output\u001b[0m\u001b[1;33m,\u001b[0m \u001b[0my_numeric\u001b[0m\u001b[1;33m=\u001b[0m\u001b[0my_numeric\u001b[0m\u001b[1;33m)\u001b[0m\u001b[1;33m\u001b[0m\u001b[1;33m\u001b[0m\u001b[0m\n\u001b[0m\u001b[0;32m    980\u001b[0m \u001b[1;33m\u001b[0m\u001b[0m\n\u001b[0;32m    981\u001b[0m     \u001b[0mcheck_consistent_length\u001b[0m\u001b[1;33m(\u001b[0m\u001b[0mX\u001b[0m\u001b[1;33m,\u001b[0m \u001b[0my\u001b[0m\u001b[1;33m)\u001b[0m\u001b[1;33m\u001b[0m\u001b[1;33m\u001b[0m\u001b[0m\n",
      "\u001b[1;32m~\\anaconda3\\envs\\CSE\\lib\\site-packages\\sklearn\\utils\\validation.py\u001b[0m in \u001b[0;36m_check_y\u001b[1;34m(y, multi_output, y_numeric)\u001b[0m\n\u001b[0;32m    991\u001b[0m         )\n\u001b[0;32m    992\u001b[0m     \u001b[1;32melse\u001b[0m\u001b[1;33m:\u001b[0m\u001b[1;33m\u001b[0m\u001b[1;33m\u001b[0m\u001b[0m\n\u001b[1;32m--> 993\u001b[1;33m         \u001b[0my\u001b[0m \u001b[1;33m=\u001b[0m \u001b[0mcolumn_or_1d\u001b[0m\u001b[1;33m(\u001b[0m\u001b[0my\u001b[0m\u001b[1;33m,\u001b[0m \u001b[0mwarn\u001b[0m\u001b[1;33m=\u001b[0m\u001b[1;32mTrue\u001b[0m\u001b[1;33m)\u001b[0m\u001b[1;33m\u001b[0m\u001b[1;33m\u001b[0m\u001b[0m\n\u001b[0m\u001b[0;32m    994\u001b[0m         \u001b[0m_assert_all_finite\u001b[0m\u001b[1;33m(\u001b[0m\u001b[0my\u001b[0m\u001b[1;33m)\u001b[0m\u001b[1;33m\u001b[0m\u001b[1;33m\u001b[0m\u001b[0m\n\u001b[0;32m    995\u001b[0m         \u001b[0m_ensure_no_complex_data\u001b[0m\u001b[1;33m(\u001b[0m\u001b[0my\u001b[0m\u001b[1;33m)\u001b[0m\u001b[1;33m\u001b[0m\u001b[1;33m\u001b[0m\u001b[0m\n",
      "\u001b[1;32m~\\anaconda3\\envs\\CSE\\lib\\site-packages\\sklearn\\utils\\validation.py\u001b[0m in \u001b[0;36mcolumn_or_1d\u001b[1;34m(y, warn)\u001b[0m\n\u001b[0;32m   1036\u001b[0m         \u001b[1;32mreturn\u001b[0m \u001b[0mnp\u001b[0m\u001b[1;33m.\u001b[0m\u001b[0mravel\u001b[0m\u001b[1;33m(\u001b[0m\u001b[0my\u001b[0m\u001b[1;33m)\u001b[0m\u001b[1;33m\u001b[0m\u001b[1;33m\u001b[0m\u001b[0m\n\u001b[0;32m   1037\u001b[0m \u001b[1;33m\u001b[0m\u001b[0m\n\u001b[1;32m-> 1038\u001b[1;33m     raise ValueError(\n\u001b[0m\u001b[0;32m   1039\u001b[0m         \u001b[1;34m\"y should be a 1d array, got an array of shape {} instead.\"\u001b[0m\u001b[1;33m.\u001b[0m\u001b[0mformat\u001b[0m\u001b[1;33m(\u001b[0m\u001b[0mshape\u001b[0m\u001b[1;33m)\u001b[0m\u001b[1;33m\u001b[0m\u001b[1;33m\u001b[0m\u001b[0m\n\u001b[0;32m   1040\u001b[0m     )\n",
      "\u001b[1;31mValueError\u001b[0m: y should be a 1d array, got an array of shape (147, 5) instead."
     ]
    }
   ],
   "source": [
    "from sklearn.model_selection import KFold\n",
    "kfold = KFold(n_splits=10, random_state=11, shuffle=True)\n",
    "from sklearn.model_selection import cross_val_score\n",
    "from sklearn import svm\n",
    "regr = svm.SVR()\n",
    "regr.fit(X=X_train, y=y_train)"
   ]
  },
  {
   "cell_type": "code",
   "execution_count": null,
   "id": "193a6b9b",
   "metadata": {},
   "outputs": [],
   "source": []
  },
  {
   "cell_type": "code",
   "execution_count": null,
   "id": "28caca21",
   "metadata": {},
   "outputs": [],
   "source": []
  }
 ],
 "metadata": {
  "kernelspec": {
   "display_name": "Python 3 (ipykernel)",
   "language": "python",
   "name": "python3"
  },
  "language_info": {
   "codemirror_mode": {
    "name": "ipython",
    "version": 3
   },
   "file_extension": ".py",
   "mimetype": "text/x-python",
   "name": "python",
   "nbconvert_exporter": "python",
   "pygments_lexer": "ipython3",
   "version": "3.9.7"
  }
 },
 "nbformat": 4,
 "nbformat_minor": 5
}
